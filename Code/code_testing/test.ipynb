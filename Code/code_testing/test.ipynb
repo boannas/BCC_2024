{
 "cells": [
  {
   "cell_type": "markdown",
   "metadata": {},
   "source": [
    "# Visualize EEG data with ME and PC1 method"
   ]
  },
  {
   "cell_type": "markdown",
   "metadata": {},
   "source": [
    "##### Import library"
   ]
  },
  {
   "cell_type": "code",
   "execution_count": 65,
   "metadata": {},
   "outputs": [],
   "source": [
    "import os\n",
    "import numpy as np\n",
    "from scipy.io import loadmat\n",
    "import scipy.io as sio\n",
    "import matplotlib.pyplot as plt\n",
    "from scipy.fft import fft\n",
    "import mne\n",
    "import os\n",
    "from sklearn.decomposition import PCA\n"
   ]
  },
  {
   "cell_type": "markdown",
   "metadata": {},
   "source": [
    "##### Define Initial param"
   ]
  },
  {
   "cell_type": "code",
   "execution_count": 6,
   "metadata": {},
   "outputs": [],
   "source": [
    "# Define parameters\n",
    "in_dir = r'D:\\Imputed_file'    # EEG data folder\n",
    "miscDir = r'C:\\Users\\napat\\Documents\\GitHub\\BCC_2024\\Code\\Misc'     # Misc folder (if necessary)\n",
    "fs = 125  # Sampling frequency (Hz)\n",
    "sec_start = 15  # Start of the epoch in seconds\n",
    "epoch_len_sec = 4 * 60  # Length of the epoch (4 minutes)\n",
    "epoch_len_samp = fs * epoch_len_sec  # Number of samples in the epoch"
   ]
  },
  {
   "cell_type": "code",
   "execution_count": 4,
   "metadata": {},
   "outputs": [],
   "source": [
    "# Function to apply median DC correction\n",
    "def median_dccorrect_all_trials(data):\n",
    "    return data - np.median(data, axis=1, keepdims=True)"
   ]
  },
  {
   "cell_type": "markdown",
   "metadata": {},
   "source": [
    "##### Load song into python"
   ]
  },
  {
   "cell_type": "code",
   "execution_count": 5,
   "metadata": {},
   "outputs": [
    {
     "name": "stdout",
     "output_type": "stream",
     "text": [
      "Loading D:\\Imputed_file\\song21_Imputed.mat...\n",
      "Loading D:\\Imputed_file\\song22_Imputed.mat...\n",
      "Loading D:\\Imputed_file\\song23_Imputed.mat...\n",
      "Loading D:\\Imputed_file\\song24_Imputed.mat...\n",
      "Loading D:\\Imputed_file\\song25_Imputed.mat...\n",
      "Loading D:\\Imputed_file\\song26_Imputed.mat...\n",
      "Loading D:\\Imputed_file\\song27_Imputed.mat...\n",
      "Loading D:\\Imputed_file\\song28_Imputed.mat...\n",
      "Loading D:\\Imputed_file\\song29_Imputed.mat...\n",
      "Loading D:\\Imputed_file\\song30_Imputed.mat...\n"
     ]
    }
   ],
   "source": [
    "\n",
    "trial_mean_data = []\n",
    "# Loop through the 10 songs\n",
    "for i in range(1, 2):\n",
    "    song_idx = i + 20\n",
    "    curr_fn = os.path.join(in_dir, f'song{song_idx}_Imputed.mat')\n",
    "    print(f'Loading {curr_fn}...')\n",
    "    \n",
    "    # Load the MAT file\n",
    "    mat_data = loadmat(curr_fn)\n",
    "    \n",
    "    # Extract the EEG data for the current song (replace 'dataXX' with the proper key)\n",
    "    data_key = f'data{song_idx}'\n",
    "    tempX_0 = mat_data[data_key]\n",
    "    \n",
    "    # Apply DC correction\n",
    "    tempX_dc = median_dccorrect_all_trials(tempX_0)\n",
    "    \n",
    "    # Extract the epoch (chan x T x participant)\n",
    "    tempX_epoch = tempX_dc[:, sec_start * fs : sec_start * fs + epoch_len_samp, :]\n",
    "    \n",
    "    # Take the mean of the data across participants (axis 2)\n",
    "    trial_mean = np.mean(tempX_epoch, axis=2)\n",
    "    \n",
    "    # Apply another median DC correction on the mean data across participants\n",
    "    trial_mean_corrected = median_dccorrect_all_trials(trial_mean)\n",
    "    \n",
    "    # Append or store the result in the trial_mean_data array (or list)\n",
    "    trial_mean_data.append(trial_mean_corrected)\n",
    "\n",
    "# Convert the list of trial means to a NumPy array\n",
    "trial_mean_data = np.array(trial_mean_data)  # Shape: (10 songs, channels, time)"
   ]
  },
  {
   "cell_type": "markdown",
   "metadata": {},
   "source": [
    "##### Load the tempos"
   ]
  },
  {
   "cell_type": "code",
   "execution_count": 29,
   "metadata": {},
   "outputs": [],
   "source": [
    "# Load the tempos\n",
    "tempo_data = sio.loadmat(os.path.join(miscDir, 'tempoHz.mat'))\n",
    "tempoHz = tempo_data['tempoHz'].flatten()\n",
    "\n",
    "# Creating a tempo matrix\n",
    "tempoMatrix = np.tile(tempoHz, (6, 1)) * np.tile(2.0 ** np.arange(-2, 4).reshape(-1, 1), (1, 10))\n",
    "\n",
    "# Get the number of channels, time points, and songs\n",
    "nChan, T, nSongs = trial_mean_data.shape\n",
    "xax = np.arange(T) / (T / fs)  # x-axis for plotting\n",
    "xl = [0, 15]  # xlim for plotting"
   ]
  },
  {
   "cell_type": "code",
   "execution_count": 13,
   "metadata": {},
   "outputs": [],
   "source": [
    "# Analysis 1: Uniform spatial filter (mean of all channels)\n",
    "channel_means_per_song = np.mean(trial_mean_data, axis=0)  # T x song\n",
    "\n",
    "# Analysis 2: PCA on concatenated data\n",
    "# Concatenate the trialMeanData across all songs (axis=2) -> (channels x time points)\n",
    "concat_trial_means = np.concatenate([trial_mean_data[:, :, i] for i in range(nSongs)], axis=1)\n",
    "\n",
    "# Perform PCA using SVD\n",
    "U, S, Vt = np.linalg.svd(concat_trial_means, full_matrices=False)\n",
    "# Extract the first principal component (PC1) by multiplying the first singular vector\n",
    "concat_pc1 = np.dot(U.T[0], concat_trial_means)\n",
    "\n",
    "# Reshape PC1 into (time x songs) to match the song structure\n",
    "pc1 = concat_pc1.reshape(-1, 10)\n",
    "\n",
    "# Compute FFT for each song's channel mean and PC1\n",
    "CH = np.abs(np.fft.fft(channel_means_per_song, axis=0))  # FFT of channel means per song\n",
    "PC1 = np.abs(np.fft.fft(pc1, axis=0))  # FFT of PC1"
   ]
  },
  {
   "cell_type": "code",
   "execution_count": 71,
   "metadata": {},
   "outputs": [],
   "source": [
    "# Function to plot frequency domain for each channel (FFT of means)\n",
    "def plot_mean_channels_frequency_domain(data, fs, song_idx=1):\n",
    "    T = data.shape[1]\n",
    "    freq_axis = np.fft.fftfreq(T, d=1/fs)[:T // 2]\n",
    "    mean_channels = np.mean(data, axis=2)  # Mean across trials\n",
    "    fft_data = np.abs(fft(mean_channels, axis=1))[:, :T // 2]\n",
    "\n",
    "    # Filter to 0-15 Hz range\n",
    "    valid_freqs = freq_axis <= 15\n",
    "    freq_axis = freq_axis[valid_freqs]\n",
    "    fft_data = fft_data[:, valid_freqs]\n",
    "    plt.figure(figsize=(10, 6))\n",
    "    for ch in range(fft_data.shape[0]):\n",
    "        plt.plot(freq_axis, fft_data[ch, :],color='black', linewidth=5, zorder=1)\n",
    "        \n",
    "    plt.axvline(x=tempoHz[0] / 4, color='blue', linestyle='--', linewidth=2, label='1/4x Tempo', zorder=0)\n",
    "    plt.axvline(x=tempoHz[0] / 2, color='orange', linestyle='--', linewidth=2, label='1/2x Tempo', zorder=0)\n",
    "    plt.axvline(x=tempoHz[0], color='green', linestyle='--', linewidth=2, label='Tempo', zorder=0)\n",
    "    plt.axvline(x=tempoHz[0] * 2, color='red', linestyle='--', linewidth=2, label='2x Tempo', zorder=0)\n",
    "    plt.axvline(x=tempoHz[0] * 4, color='purple', linestyle='--', linewidth=2, label='4x Tempo', zorder=0)\n",
    "    plt.axvline(x=tempoHz[0] * 8, color='brown', linestyle='--', linewidth=2, label='8x Tempo', zorder=0)\n",
    "        \n",
    "    plt.title(f'Mean Frequency-Domain Signal (0-15 Hz) for All Channels (Song {song_idx})')\n",
    "    plt.xlabel('Frequency (Hz)')\n",
    "    plt.ylabel('Magnitude')\n",
    "    plt.legend(loc='upper right')\n",
    "    plt.grid(True)\n",
    "    plt.show()\n",
    "\n",
    "\n",
    "\n",
    "# Function to plot PC1 (Frequency Domain)\n",
    "def plot_pc1_frequency_domain(data, fs, song_idx=1):\n",
    "    pca = PCA(n_components=1)\n",
    "    T = data.shape[1]\n",
    "    freq_axis = np.fft.fftfreq(T, d=1/fs)[:T // 2]\n",
    "    pca_data = pca.fit_transform(data.reshape(data.shape[0], -1).T).T[0]  # First PC (PC1)\n",
    "    fft_pca = np.abs(fft(pca_data))[:T // 2]\n",
    "\n",
    "    # Filter to 0-15 Hz range\n",
    "    valid_freqs = freq_axis <= 15\n",
    "    freq_axis = freq_axis[valid_freqs]\n",
    "    fft_pca = fft_pca[valid_freqs]\n",
    "\n",
    "    plt.figure(figsize=(10, 6))\n",
    "    plt.plot(freq_axis, fft_pca, color='black', linewidth=5, zorder=1)\n",
    "    \n",
    "    plt.axvline(x=tempoHz[0] / 4, color='blue', linestyle='--', linewidth=2, label='1/4x Tempo', zorder=0)\n",
    "    plt.axvline(x=tempoHz[0] / 2, color='orange', linestyle='--', linewidth=2, label='1/2x Tempo', zorder=0)\n",
    "    plt.axvline(x=tempoHz[0], color='green', linestyle='--', linewidth=2, label='Tempo', zorder=0)\n",
    "    plt.axvline(x=tempoHz[0] * 2, color='red', linestyle='--', linewidth=2, label='2x Tempo', zorder=0)\n",
    "    plt.axvline(x=tempoHz[0] * 4, color='purple', linestyle='--', linewidth=2, label='4x Tempo', zorder=0)\n",
    "    plt.axvline(x=tempoHz[0] * 8, color='brown', linestyle='--', linewidth=2, label='8x Tempo', zorder=0)\n",
    "\n",
    "    plt.title(f'PC1 Frequency-Domain Signal (0-15 Hz) (Song {song_idx})')\n",
    "    plt.xlabel('Frequency (Hz)')\n",
    "    plt.ylabel('Magnitude')\n",
    "    plt.grid(True)\n",
    "    plt.show()"
   ]
  },
  {
   "cell_type": "code",
   "execution_count": 76,
   "metadata": {},
   "outputs": [
    {
     "ename": "KeyError",
     "evalue": "'data21'",
     "output_type": "error",
     "traceback": [
      "\u001b[1;31m---------------------------------------------------------------------------\u001b[0m",
      "\u001b[1;31mKeyError\u001b[0m                                  Traceback (most recent call last)",
      "Cell \u001b[1;32mIn[76], line 3\u001b[0m\n\u001b[0;32m      1\u001b[0m song_idx \u001b[38;5;241m=\u001b[39m \u001b[38;5;241m21\u001b[39m\n\u001b[0;32m      2\u001b[0m data_key \u001b[38;5;241m=\u001b[39m \u001b[38;5;124mf\u001b[39m\u001b[38;5;124m'\u001b[39m\u001b[38;5;124mdata\u001b[39m\u001b[38;5;132;01m{\u001b[39;00msong_idx\u001b[38;5;132;01m}\u001b[39;00m\u001b[38;5;124m'\u001b[39m\n\u001b[1;32m----> 3\u001b[0m tempX_0 \u001b[38;5;241m=\u001b[39m \u001b[43mmat_data\u001b[49m\u001b[43m[\u001b[49m\u001b[43mdata_key\u001b[49m\u001b[43m]\u001b[49m\n\u001b[0;32m      5\u001b[0m tempX_dc \u001b[38;5;241m=\u001b[39m median_dccorrect_all_trials(tempX_0)\n\u001b[0;32m      6\u001b[0m tempX_epoch \u001b[38;5;241m=\u001b[39m tempX_dc[:, sec_start \u001b[38;5;241m*\u001b[39m fs:(sec_start \u001b[38;5;241m*\u001b[39m fs \u001b[38;5;241m+\u001b[39m epoch_len_samp), :]\n",
      "\u001b[1;31mKeyError\u001b[0m: 'data21'"
     ]
    }
   ],
   "source": [
    "song_idx = 21\n",
    "data_key = f'data{song_idx}'\n",
    "tempX_0 = mat_data[data_key]\n",
    "\n",
    "tempX_dc = median_dccorrect_all_trials(tempX_0)\n",
    "tempX_epoch = tempX_dc[:, sec_start * fs:(sec_start * fs + epoch_len_samp), :]\n",
    "\n",
    "plot_mean_channels_frequency_domain(tempX_epoch, fs, song_idx=song_idx)\n",
    "plot_pc1_frequency_domain(tempX_epoch, fs, song_idx=song_idx)"
   ]
  },
  {
   "cell_type": "code",
   "execution_count": null,
   "metadata": {},
   "outputs": [],
   "source": []
  }
 ],
 "metadata": {
  "kernelspec": {
   "display_name": "Python 3",
   "language": "python",
   "name": "python3"
  },
  "language_info": {
   "codemirror_mode": {
    "name": "ipython",
    "version": 3
   },
   "file_extension": ".py",
   "mimetype": "text/x-python",
   "name": "python",
   "nbconvert_exporter": "python",
   "pygments_lexer": "ipython3",
   "version": "3.11.2"
  }
 },
 "nbformat": 4,
 "nbformat_minor": 2
}
