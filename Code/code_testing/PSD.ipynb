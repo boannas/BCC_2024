{
 "cells": [
  {
   "cell_type": "markdown",
   "metadata": {},
   "source": [
    "# Create Power Spectral Density "
   ]
  },
  {
   "cell_type": "code",
   "execution_count": 4,
   "metadata": {},
   "outputs": [
    {
     "name": "stdout",
     "output_type": "stream",
     "text": [
      "Loading song21_Imputed.mat...\n",
      "Creating RawArray with float64 data, n_channels=125, n_times=34795\n",
      "    Range : 0 ... 34794 =      0.000 ...   278.352 secs\n",
      "Ready.\n",
      "Effective window size : 16.384 (s)\n",
      "Plotting power spectral density (dB=True).\n"
     ]
    },
    {
     "name": "stderr",
     "output_type": "stream",
     "text": [
      "c:\\Users\\napat\\AppData\\Local\\Programs\\Python\\Python311\\Lib\\site-packages\\mne\\viz\\utils.py:158: UserWarning: FigureCanvasAgg is non-interactive, and thus cannot be shown\n",
      "  (fig or plt).show(**kwargs)\n"
     ]
    },
    {
     "name": "stdout",
     "output_type": "stream",
     "text": [
      "Loading song22_Imputed.mat...\n",
      "Creating RawArray with float64 data, n_channels=125, n_times=33891\n",
      "    Range : 0 ... 33890 =      0.000 ...   271.120 secs\n",
      "Ready.\n",
      "Effective window size : 16.384 (s)\n",
      "Plotting power spectral density (dB=True).\n"
     ]
    },
    {
     "name": "stderr",
     "output_type": "stream",
     "text": [
      "c:\\Users\\napat\\AppData\\Local\\Programs\\Python\\Python311\\Lib\\site-packages\\mne\\viz\\utils.py:158: UserWarning: FigureCanvasAgg is non-interactive, and thus cannot be shown\n",
      "  (fig or plt).show(**kwargs)\n"
     ]
    },
    {
     "name": "stdout",
     "output_type": "stream",
     "text": [
      "Loading song23_Imputed.mat...\n",
      "Creating RawArray with float64 data, n_channels=125, n_times=34469\n",
      "    Range : 0 ... 34468 =      0.000 ...   275.744 secs\n",
      "Ready.\n",
      "Effective window size : 16.384 (s)\n",
      "Plotting power spectral density (dB=True).\n"
     ]
    },
    {
     "name": "stderr",
     "output_type": "stream",
     "text": [
      "c:\\Users\\napat\\AppData\\Local\\Programs\\Python\\Python311\\Lib\\site-packages\\mne\\viz\\utils.py:158: UserWarning: FigureCanvasAgg is non-interactive, and thus cannot be shown\n",
      "  (fig or plt).show(**kwargs)\n"
     ]
    },
    {
     "name": "stdout",
     "output_type": "stream",
     "text": [
      "Loading song24_Imputed.mat...\n",
      "Creating RawArray with float64 data, n_channels=125, n_times=36797\n",
      "    Range : 0 ... 36796 =      0.000 ...   294.368 secs\n",
      "Ready.\n",
      "Effective window size : 16.384 (s)\n",
      "Plotting power spectral density (dB=True).\n"
     ]
    },
    {
     "name": "stderr",
     "output_type": "stream",
     "text": [
      "c:\\Users\\napat\\AppData\\Local\\Programs\\Python\\Python311\\Lib\\site-packages\\mne\\viz\\utils.py:158: UserWarning: FigureCanvasAgg is non-interactive, and thus cannot be shown\n",
      "  (fig or plt).show(**kwargs)\n"
     ]
    },
    {
     "name": "stdout",
     "output_type": "stream",
     "text": [
      "Loading song25_Imputed.mat...\n",
      "Creating RawArray with float64 data, n_channels=125, n_times=36114\n",
      "    Range : 0 ... 36113 =      0.000 ...   288.904 secs\n",
      "Ready.\n",
      "Effective window size : 16.384 (s)\n",
      "Plotting power spectral density (dB=True).\n"
     ]
    },
    {
     "name": "stderr",
     "output_type": "stream",
     "text": [
      "c:\\Users\\napat\\AppData\\Local\\Programs\\Python\\Python311\\Lib\\site-packages\\mne\\viz\\utils.py:158: UserWarning: FigureCanvasAgg is non-interactive, and thus cannot be shown\n",
      "  (fig or plt).show(**kwargs)\n"
     ]
    },
    {
     "name": "stdout",
     "output_type": "stream",
     "text": [
      "Loading song26_Imputed.mat...\n",
      "Creating RawArray with float64 data, n_channels=125, n_times=34478\n",
      "    Range : 0 ... 34477 =      0.000 ...   275.816 secs\n",
      "Ready.\n",
      "Effective window size : 16.384 (s)\n",
      "Plotting power spectral density (dB=True).\n"
     ]
    },
    {
     "name": "stderr",
     "output_type": "stream",
     "text": [
      "c:\\Users\\napat\\AppData\\Local\\Programs\\Python\\Python311\\Lib\\site-packages\\mne\\viz\\utils.py:158: UserWarning: FigureCanvasAgg is non-interactive, and thus cannot be shown\n",
      "  (fig or plt).show(**kwargs)\n"
     ]
    },
    {
     "name": "stdout",
     "output_type": "stream",
     "text": [
      "Loading song27_Imputed.mat...\n",
      "Creating RawArray with float64 data, n_channels=125, n_times=36454\n",
      "    Range : 0 ... 36453 =      0.000 ...   291.624 secs\n",
      "Ready.\n",
      "Effective window size : 16.384 (s)\n",
      "Plotting power spectral density (dB=True).\n"
     ]
    },
    {
     "name": "stderr",
     "output_type": "stream",
     "text": [
      "c:\\Users\\napat\\AppData\\Local\\Programs\\Python\\Python311\\Lib\\site-packages\\mne\\viz\\utils.py:158: UserWarning: FigureCanvasAgg is non-interactive, and thus cannot be shown\n",
      "  (fig or plt).show(**kwargs)\n"
     ]
    },
    {
     "name": "stdout",
     "output_type": "stream",
     "text": [
      "Loading song28_Imputed.mat...\n",
      "Creating RawArray with float64 data, n_channels=125, n_times=36513\n",
      "    Range : 0 ... 36512 =      0.000 ...   292.096 secs\n",
      "Ready.\n",
      "Effective window size : 16.384 (s)\n",
      "Plotting power spectral density (dB=True).\n"
     ]
    },
    {
     "name": "stderr",
     "output_type": "stream",
     "text": [
      "c:\\Users\\napat\\AppData\\Local\\Programs\\Python\\Python311\\Lib\\site-packages\\mne\\viz\\utils.py:158: UserWarning: FigureCanvasAgg is non-interactive, and thus cannot be shown\n",
      "  (fig or plt).show(**kwargs)\n"
     ]
    },
    {
     "name": "stdout",
     "output_type": "stream",
     "text": [
      "Loading song29_Imputed.mat...\n",
      "Creating RawArray with float64 data, n_channels=125, n_times=36712\n",
      "    Range : 0 ... 36711 =      0.000 ...   293.688 secs\n",
      "Ready.\n",
      "Effective window size : 16.384 (s)\n",
      "Plotting power spectral density (dB=True).\n"
     ]
    },
    {
     "name": "stderr",
     "output_type": "stream",
     "text": [
      "c:\\Users\\napat\\AppData\\Local\\Programs\\Python\\Python311\\Lib\\site-packages\\mne\\viz\\utils.py:158: UserWarning: FigureCanvasAgg is non-interactive, and thus cannot be shown\n",
      "  (fig or plt).show(**kwargs)\n"
     ]
    },
    {
     "name": "stdout",
     "output_type": "stream",
     "text": [
      "Loading song30_Imputed.mat...\n",
      "Creating RawArray with float64 data, n_channels=125, n_times=37221\n",
      "    Range : 0 ... 37220 =      0.000 ...   297.760 secs\n",
      "Ready.\n",
      "Effective window size : 16.384 (s)\n",
      "Plotting power spectral density (dB=True).\n"
     ]
    },
    {
     "name": "stderr",
     "output_type": "stream",
     "text": [
      "c:\\Users\\napat\\AppData\\Local\\Programs\\Python\\Python311\\Lib\\site-packages\\mne\\viz\\utils.py:158: UserWarning: FigureCanvasAgg is non-interactive, and thus cannot be shown\n",
      "  (fig or plt).show(**kwargs)\n"
     ]
    }
   ],
   "source": [
    "import scipy.io as sio\n",
    "import mne\n",
    "import os\n",
    "\n",
    "in_dir = r'D:\\Imputed_file'\n",
    "\n",
    "# Loop through 10 songs (song21 to song30)\n",
    "for i in range(1, 11):\n",
    "    currFn = f'song{20+i}_Imputed.mat'  # Filename for each song\n",
    "    print(f'Loading {currFn}...')\n",
    "    data = sio.loadmat(os.path.join(in_dir, currFn))  # Load the .mat file\n",
    "    \n",
    "    eeg_data = data[f'data{20+i}']\n",
    "    \n",
    "    # Define channel names for the 128-channel EGI system\n",
    "    montage = mne.channels.make_standard_montage('GSN-HydroCel-128')\n",
    "    \n",
    "    # Adjust the montage and info for only 125 channels\n",
    "    ch_names = montage.ch_names[:125]  # Only take the first 125 channel names\n",
    "    info = mne.create_info(ch_names=ch_names, sfreq=125, ch_types='eeg')\n",
    "    \n",
    "    eeg_data_avg = eeg_data.mean(axis=2)\n",
    "    \n",
    "    raw = mne.io.RawArray(eeg_data_avg, info)\n",
    "    \n",
    "    raw.set_montage(montage)\n",
    "    \n",
    "    psd = raw.compute_psd(fmin=0.0, fmax=15, n_fft=2048)\n",
    "    fig = psd.plot()\n",
    "    \n",
    "    # Set a custom title\n",
    "    fig.suptitle(f'Song {i}', fontsize=16)\n",
    "    \n",
    "    output_dir = r'C:\\Users\\napat\\Documents\\GitHub\\BCC_2024\\Code\\code_testing\\Graph\\EEG'\n",
    "    if not os.path.exists(output_dir):\n",
    "        os.makedirs(output_dir)\n",
    "\n",
    "    output_file = os.path.join(output_dir, f'song{20+i}_PSD.png')\n",
    "\n",
    "    fig.savefig(output_file, bbox_inches='tight')"
   ]
  },
  {
   "cell_type": "code",
   "execution_count": null,
   "metadata": {},
   "outputs": [],
   "source": []
  }
 ],
 "metadata": {
  "kernelspec": {
   "display_name": "Python 3",
   "language": "python",
   "name": "python3"
  },
  "language_info": {
   "codemirror_mode": {
    "name": "ipython",
    "version": 3
   },
   "file_extension": ".py",
   "mimetype": "text/x-python",
   "name": "python",
   "nbconvert_exporter": "python",
   "pygments_lexer": "ipython3",
   "version": "3.11.2"
  }
 },
 "nbformat": 4,
 "nbformat_minor": 2
}
